{
 "cells": [
  {
   "cell_type": "markdown",
   "source": [
    "# Model Developing Notebook\n",
    "The notebook for managing the model itself. Train your model here, then use the last cell to output the pickle file."
   ],
   "metadata": {
    "collapsed": false
   }
  },
  {
   "cell_type": "code",
   "execution_count": null,
   "outputs": [],
   "source": [
    "# import block\n",
    "import pandas as pd\n",
    "import numpy as np"
   ],
   "metadata": {
    "collapsed": false
   }
  },
  {
   "cell_type": "markdown",
   "source": [
    "## Train and validate the model"
   ],
   "metadata": {
    "collapsed": false
   }
  },
  {
   "cell_type": "code",
   "execution_count": null,
   "outputs": [],
   "source": [],
   "metadata": {
    "collapsed": false
   }
  },
  {
   "cell_type": "markdown",
   "source": [
    "## Dump the model into a pickle file."
   ],
   "metadata": {
    "collapsed": false
   }
  },
  {
   "cell_type": "code",
   "execution_count": null,
   "outputs": [],
   "source": [
    "from copy import deepcopy\n",
    "import sys\n",
    "sys.path.append(\"..\")\n",
    "\n",
    "import dill\n",
    "\n",
    "from predict.utils import Model, add_method\n",
    "\n",
    "# TODO: replace None with your model object\n",
    "model = deepcopy(None)\n",
    "\n",
    "\n",
    "# wrap model's original scoring function with our function to be running when triggered\n",
    "def run_predict(self, input_data: pd.DataFrame) -> pd.DataFrame | pd.Series:\n",
    "    return self.PREDICT_FUNCTION(input_data)  # TODO: replace PREDICT_FUNCTION with your model's native scoring function\n",
    "add_method(model, run_predict)\n",
    "\n",
    "\n",
    "# TODO: add your input column names. Column names need to be exactly the same as future input variable labels\n",
    "model.input_columns = []\n",
    "\n",
    "\n",
    "if not isinstance(model, Model):\n",
    "    raise RuntimeError(\"Model object is not the right type\")\n",
    "\n",
    "with open(\"model.pkl\", \"wb\") as f:\n",
    "    dill.dump(model, f)"
   ],
   "metadata": {
    "collapsed": false
   }
  }
 ],
 "metadata": {
  "kernelspec": {
   "display_name": "Python 3",
   "language": "python",
   "name": "python3"
  },
  "language_info": {
   "codemirror_mode": {
    "name": "ipython",
    "version": 2
   },
   "file_extension": ".py",
   "mimetype": "text/x-python",
   "name": "python",
   "nbconvert_exporter": "python",
   "pygments_lexer": "ipython2",
   "version": "2.7.6"
  }
 },
 "nbformat": 4,
 "nbformat_minor": 0
}
