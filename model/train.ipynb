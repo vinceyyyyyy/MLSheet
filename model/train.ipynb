{
 "cells": [
  {
   "cell_type": "markdown",
   "source": [
    "# Model Developing Notebook\n",
    "This is the notebook for developing and managing the ML model.\n",
    "\n",
    "Train and test your model here, then use the last cell to output the pickle file.\n",
    "\n",
    "This notebook is intended to be running in your normal Data Science environment. No cloud-related library is needed.\n",
    "\n",
    "The only extra thing you have to have is `dill`. More on that see the last cell."
   ],
   "metadata": {
    "collapsed": false
   }
  },
  {
   "cell_type": "code",
   "execution_count": null,
   "outputs": [],
   "source": [
    "# import block\n",
    "import pandas as pd\n",
    "import numpy as np"
   ],
   "metadata": {
    "collapsed": false
   }
  },
  {
   "cell_type": "markdown",
   "source": [
    "## Train and validate the model\n",
    "If you already have a model, dump it to a pickle file and load it below."
   ],
   "metadata": {
    "collapsed": false
   }
  },
  {
   "cell_type": "code",
   "execution_count": null,
   "outputs": [],
   "source": [],
   "metadata": {
    "collapsed": false
   }
  },
  {
   "cell_type": "markdown",
   "source": [
    "## Dump the model into a serialized file\n",
    "You need to have `dill` installed to do so. It can be installed with `pip install dill`.\n",
    "\n",
    "`pickle` is insufficient because it cannot store class definition data, which is required here to maintain consistency between model training process and cloud deployment."
   ],
   "metadata": {
    "collapsed": false
   }
  },
  {
   "cell_type": "code",
   "execution_count": null,
   "outputs": [],
   "source": [
    "from copy import deepcopy\n",
    "from functools import partial\n",
    "from typing import Union\n",
    "import sys\n",
    "sys.path.append(\"..\")\n",
    "\n",
    "import dill\n",
    "\n",
    "from cloud_function.interfaces import Model\n",
    "\n",
    "\n",
    "# TODO: replace None with your model object\n",
    "model = deepcopy(None)\n",
    "\n",
    "\n",
    "# wrap model's original scoring function with our function to be running when triggered\n",
    "def run_predict(self, input_data: pd.DataFrame) -> Union[pd.DataFrame, pd.Series]:\n",
    "    return self.predict(input_data)  # TODO: replace predict() with your model's native scoring method if it is different\n",
    "setattr(model, run_predict.__name__, partial(run_predict, model))\n",
    "\n",
    "\n",
    "# TODO: add your input column names. Column names need to be exactly the same as future input variable labels\n",
    "model.input_columns = []\n",
    "\n",
    "\n",
    "if not isinstance(model, Model):\n",
    "    raise RuntimeError(\"Model object is not the right type\")\n",
    "\n",
    "with open(\"model.pkl\", \"wb\") as f:\n",
    "    dill.dump(model, f)"
   ],
   "metadata": {
    "collapsed": false
   }
  }
 ],
 "metadata": {
  "kernelspec": {
   "display_name": "Python 3",
   "language": "python",
   "name": "python3"
  },
  "language_info": {
   "codemirror_mode": {
    "name": "ipython",
    "version": 2
   },
   "file_extension": ".py",
   "mimetype": "text/x-python",
   "name": "python",
   "nbconvert_exporter": "python",
   "pygments_lexer": "ipython2",
   "version": "2.7.6"
  }
 },
 "nbformat": 4,
 "nbformat_minor": 0
}
